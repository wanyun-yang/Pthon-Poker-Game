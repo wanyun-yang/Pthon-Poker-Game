{
 "cells": [
  {
   "cell_type": "code",
   "execution_count": 1,
   "metadata": {},
   "outputs": [],
   "source": [
    "import numpy as np\n",
    "import random"
   ]
  },
  {
   "cell_type": "markdown",
   "metadata": {},
   "source": [
    "# Exercise 1"
   ]
  },
  {
   "cell_type": "markdown",
   "metadata": {},
   "source": [
    "## Step 1.1"
   ]
  },
  {
   "cell_type": "code",
   "execution_count": 2,
   "metadata": {
    "scrolled": true
   },
   "outputs": [
    {
     "name": "stdout",
     "output_type": "stream",
     "text": [
      "[1, 2, 3, 4, 5, 6, 7, 8, 9, 10, 11, 12, 13, 1, 2, 3, 4, 5, 6, 7, 8, 9, 10, 11, 12, 13, 1, 2, 3, 4, 5, 6, 7, 8, 9, 10, 11, 12, 13, 1, 2, 3, 4, 5, 6, 7, 8, 9, 10, 11, 12, 13]\n"
     ]
    }
   ],
   "source": [
    "#Create a list of 1-13.\n",
    "deck1Set = [x for x in range(1,14)]\n",
    "#Since we do not consider about the faces, just simply copy the list for 4 times.\n",
    "deck = deck1Set*4\n",
    "print(deck)"
   ]
  },
  {
   "cell_type": "markdown",
   "metadata": {},
   "source": [
    "## Step1.2"
   ]
  },
  {
   "cell_type": "code",
   "execution_count": 3,
   "metadata": {},
   "outputs": [
    {
     "name": "stdout",
     "output_type": "stream",
     "text": [
      "364\n"
     ]
    }
   ],
   "source": [
    "#Sum up the values.\n",
    "maximum=sum(deck)\n",
    "print(maximum)"
   ]
  },
  {
   "cell_type": "markdown",
   "metadata": {},
   "source": [
    "# Exercise 2"
   ]
  },
  {
   "cell_type": "markdown",
   "metadata": {},
   "source": [
    "## Step 2.1"
   ]
  },
  {
   "cell_type": "code",
   "execution_count": 4,
   "metadata": {},
   "outputs": [],
   "source": [
    "#Create the tuples of players' cards on hand.\n",
    "player1=();\n",
    "player2=();\n",
    "#Define the function. \n",
    "def deal():\n",
    "    np.random.shuffle(deck)\n",
    "    global player1\n",
    "    global player2\n",
    "#Give the value to the global variables.\n",
    "    player1 =tuple (deck[:26]);\n",
    "    player2 =tuple (deck[26:]);\n",
    "#Print the result we want.\n",
    "    return(\"Player1: \"+str(player1)+\"\\nPlayer2: \"+str(player2))"
   ]
  },
  {
   "cell_type": "markdown",
   "metadata": {},
   "source": [
    "## Step2.2"
   ]
  },
  {
   "cell_type": "code",
   "execution_count": 5,
   "metadata": {},
   "outputs": [
    {
     "name": "stdout",
     "output_type": "stream",
     "text": [
      "Player1: (6, 5, 5, 13, 12, 8, 3, 12, 3, 1, 2, 2, 5, 9, 13, 4, 6, 1, 9, 12, 8, 2, 4, 7, 4, 13)\n",
      "Player2: (8, 10, 2, 1, 7, 9, 10, 12, 10, 11, 9, 1, 3, 10, 11, 5, 13, 4, 7, 11, 3, 11, 6, 6, 7, 8)\n",
      "Player1 has 26 cards, and the total value is 169\n",
      "Player2 has 26 cards, and the total value is 195\n"
     ]
    }
   ],
   "source": [
    "#Print out the cards for two players.\n",
    "print(deal())\n",
    "#Calculate the number of the cards and the sum value.\n",
    "print('Player1 has '+str(len(player1))+\" cards, and the total value is \"+ str(sum(player1)))\n",
    "print('Player2 has '+str(len(player2))+\" cards, and the total value is \"+ str(sum(player2)))\n"
   ]
  },
  {
   "cell_type": "markdown",
   "metadata": {},
   "source": [
    "# Exercise 3"
   ]
  },
  {
   "cell_type": "markdown",
   "metadata": {},
   "source": [
    "## Step3.1"
   ]
  },
  {
   "cell_type": "markdown",
   "metadata": {},
   "source": [
    "1. Shuffle deck\n",
    "2. Deal half of deck to each player\n",
    "3. Each player choose two random cards from their tuple list.\n",
    "4. Compare the sum of the pairs.\n",
    "5. Winner take all four cards and score will increase the sum of the 4 cards.\n",
    "6. There is a tie, both players give one more random card in the round.(If still a tie, add one more.)\n",
    "7. Keep going.\n",
    "8. When players ran out of the cards during a tie or just have one card left, return the cards to their own pile and add up the values.\n",
    "9. Game terminates after a maximum of 13 rounds (occurs when there are no ties) and the deck is exhausted. \n",
    "10. The player with the highest total card points (in their discard pile) wins the game.                                   "
   ]
  },
  {
   "cell_type": "markdown",
   "metadata": {},
   "source": [
    "## Step3.2"
   ]
  },
  {
   "cell_type": "code",
   "execution_count": 6,
   "metadata": {},
   "outputs": [],
   "source": [
    "def play():\n",
    "    #Define the numbers that I will use in the output.\n",
    "    p1Score=p2Score=roundNum=0\n",
    "    #Run function deal first to get the random cards for players.\n",
    "    deal()\n",
    "    global player1\n",
    "    global player2\n",
    "    #The previous section required tuples, now I want to switch to list first to modify it.\n",
    "    player1=list(player1)\n",
    "    player2=list(player2)\n",
    "    #Checking the game process by printing.\n",
    "    #print(player1)\n",
    "    #print(player2)\n",
    "    #Start a loop for the whole game process.\n",
    "    while player1!=[]: \n",
    "        #What if only one card left after a round-return the values.\n",
    "        if len(player1)==1 or len(player2)==1:\n",
    "            p1Score = p1Score + sum(player1)\n",
    "            p2Score = p2Score + sum(player2)\n",
    "            break\n",
    "        #Choose 2 cards randomly from the list.        \n",
    "        player1_round = random.sample(player1, 2)\n",
    "        player2_round = random.sample(player2, 2)\n",
    "        #print(player1_round,player2_round)\n",
    "        #Delete the chosen cards so they will not be used twice.\n",
    "        player1.remove(player1_round[0])\n",
    "        player1.remove(player1_round[1])\n",
    "        player2.remove(player2_round[0])\n",
    "        player2.remove(player2_round[1])\n",
    "        #Checking the game process by printing.\n",
    "        #print(player1)\n",
    "        #print(player2)\n",
    "        #What if two cards have the same sum - tie.\n",
    "        while sum(player1_round)==sum(player2_round):\n",
    "            #If these two are the last two cards-tie-return the values. \n",
    "            if player1==[] or player2==[]:\n",
    "                break\n",
    "            #If not, draw another card and add the sum together and then compare.\n",
    "            else:\n",
    "                p1New=random.choice(player1)\n",
    "                p2New=random.choice(player2)\n",
    "                player1_round.append(p1New)\n",
    "                #Checking the game process by printing.\n",
    "                #print('tie warning: draw another card')\n",
    "                #print(player1_round)\n",
    "                player2_round.append(p2New)\n",
    "                #print(player2_round)\n",
    "                player1.remove(p1New)\n",
    "                player2.remove(p2New)\n",
    "            #After all these, if they run out of the cards, return the values.    \n",
    "            if player1==[] or player2==[]:\n",
    "                break\n",
    "        \n",
    "        #After have two sets of cards with different sum, then compare and add the score to players. \n",
    "        if sum(player1_round)>sum(player2_round):\n",
    "                p1Score = p1Score + sum(player1_round) + sum(player2_round)\n",
    "        elif sum(player1_round)<sum(player2_round): \n",
    "                p2Score = p2Score + sum(player1_round) + sum(player2_round)\n",
    "        else:\n",
    "                p1Score = p1Score + sum(player1_round)\n",
    "                p2Score = p2Score + sum(player2_round)\n",
    "        # Count the round number.   \n",
    "        roundNum=roundNum+1\n",
    "    #Return the coresponding results.\n",
    "    if p1Score>p2Score:\n",
    "        return ('The game lasts for '+ str(roundNum)+' rounds. \\nPlayer1 is the winner and the score is: '+str(p1Score)+'\\nPlayer2 score is: '+str(p2Score))\n",
    "    elif p1Score<p2Score:\n",
    "        return ('The game lasts for '+ str(roundNum)+' rounds. \\nPlayer2 is the winner and the score is: '+str(p2Score)+'\\nPlayer1 score is: '+str(p1Score))\n",
    "    else:\n",
    "        return ('The game lasts for '+ str(roundNum)+' rounds. \\nThere is a tie and the score is: '+str(p1Score))\n",
    "    \n",
    "    "
   ]
  },
  {
   "cell_type": "markdown",
   "metadata": {},
   "source": [
    "## Step3.3"
   ]
  },
  {
   "cell_type": "code",
   "execution_count": 7,
   "metadata": {},
   "outputs": [
    {
     "name": "stdout",
     "output_type": "stream",
     "text": [
      "The game lasts for 13 rounds. \n",
      "Player1 is the winner and the score is: 230\n",
      "Player2 score is: 134\n"
     ]
    }
   ],
   "source": [
    "print(play())"
   ]
  },
  {
   "cell_type": "markdown",
   "metadata": {},
   "source": [
    "# Exercise 4"
   ]
  },
  {
   "cell_type": "code",
   "execution_count": 8,
   "metadata": {},
   "outputs": [
    {
     "name": "stdout",
     "output_type": "stream",
     "text": [
      "winnerInitial:[195, 198, 185, 184, 192, 193, 184, 189, 188, 180, 175, 183, 191, 209, 182, 179, 195, 189, 185, 187]\n",
      "winnerFinal:[282, 261, 184, 227, 189, 201, 218, 232, 201, 209, 196, 235, 235, 286, 280, 202, 209, 214, 207, 194]\n",
      "loserInitial:[195, 166, 179, 180, 172, 193, 184, 189, 176, 180, 175, 181, 191, 209, 182, 179, 195, 189, 185, 187]\n",
      "loserFinal:[82, 103, 180, 137, 175, 163, 146, 132, 163, 155, 168, 129, 129, 78, 84, 162, 155, 150, 157, 170]\n"
     ]
    }
   ],
   "source": [
    "result=[]\n",
    "def playNew():\n",
    "    #Define the numbers that I will use in the output.\n",
    "    p1Score=p2Score=roundNum=0\n",
    "    #Run function deal first to get the random cards for players.\n",
    "    deal()\n",
    "    global player1\n",
    "    global player2\n",
    "    player1Initial=sum(player1)\n",
    "    player2Initial=sum(player2)\n",
    "    #The previous section required tuples, now I want to switch to list first to modify it.\n",
    "    player1=list(player1)\n",
    "    player2=list(player2)\n",
    "    #Checking the game process by printing.\n",
    "    #print(player1)\n",
    "    #print(player2)\n",
    "    #Start a loop for the whole game process.\n",
    "    while player1!=[]: \n",
    "        #What if only one card left after a round-return the values.\n",
    "        if len(player1)==1 or len(player2)==1:\n",
    "            p1Score = p1Score + sum(player1)\n",
    "            p2Score = p2Score + sum(player2)\n",
    "            break\n",
    "        #Choose 2 cards randomly from the list.        \n",
    "        player1_round = random.sample(player1, 2)\n",
    "        player2_round = random.sample(player2, 2)\n",
    "        #print(player1_round,player2_round)\n",
    "        #Delete the chosen cards so they will not be used twice.\n",
    "        player1.remove(player1_round[0])\n",
    "        player1.remove(player1_round[1])\n",
    "        player2.remove(player2_round[0])\n",
    "        player2.remove(player2_round[1])\n",
    "        #Checking the game process by printing.\n",
    "        #print(player1)\n",
    "        #print(player2)\n",
    "        #What if two cards have the same sum - tie.\n",
    "        while sum(player1_round)==sum(player2_round):\n",
    "            #If these two are the last two cards-tie-return the values. \n",
    "            if player1==[] or player2==[]:\n",
    "                break\n",
    "            #If not, draw another card and add the sum together and then compare.\n",
    "            else:\n",
    "                p1New=random.choice(player1)\n",
    "                p2New=random.choice(player2)\n",
    "                player1_round.append(p1New)\n",
    "                #Checking the game process by printing.\n",
    "                #print('tie warning: draw another card')\n",
    "                #print(player1_round)\n",
    "                player2_round.append(p2New)\n",
    "                #print(player2_round)\n",
    "                player1.remove(p1New)\n",
    "                player2.remove(p2New)\n",
    "            #After all these, if they run out of the cards, return the values.    \n",
    "            if player1==[] or player2==[]:\n",
    "                break\n",
    "        \n",
    "        #After have two sets of cards with different sum, then compare and add the score to players. \n",
    "        if sum(player1_round)>sum(player2_round):\n",
    "                p1Score = p1Score + sum(player1_round) + sum(player2_round)\n",
    "        elif sum(player1_round)<sum(player2_round): \n",
    "                p2Score = p2Score + sum(player1_round) + sum(player2_round)\n",
    "        else:\n",
    "                p1Score = p1Score + sum(player1_round)\n",
    "                p2Score = p2Score + sum(player2_round)\n",
    "        # Count the round number.   \n",
    "        roundNum=roundNum+1\n",
    "    #Return the coresponding results.\n",
    "    global result\n",
    "    if p1Score>p2Score:\n",
    "        result=[player1Initial,player2Initial,p1Score,p2Score]\n",
    "        return result\n",
    "    elif p1Score<p2Score:\n",
    "        result=[player2Initial,player2Initial,p2Score,p1Score]\n",
    "        return result\n",
    "    else:\n",
    "        return result\n",
    "\n",
    "winnerInitial=[]\n",
    "winnerFinal=[]\n",
    "loserInitial=[]\n",
    "loserFinal=[]\n",
    "\n",
    "LowInitialWinnerCount=0\n",
    "for i in range(20):\n",
    "    playNew()\n",
    "    winnerInitial.append(result[0])\n",
    "    winnerFinal.append(result[2])\n",
    "    loserInitial.append(result[1])\n",
    "    loserFinal.append(result[3])\n",
    "    if result[0]<result[1]:\n",
    "        LowInitialWinnerCount=LowInitialWinnerCount+1\n",
    "\n",
    "print('winnerInitial:'+str(winnerInitial))\n",
    "print('winnerFinal:'+str(winnerFinal))\n",
    "print('loserInitial:'+str(loserInitial))\n",
    "print('loserFinal:'+str(loserFinal))\n",
    "\n",
    "    \n",
    "    \n"
   ]
  },
  {
   "cell_type": "markdown",
   "metadata": {},
   "source": [
    "## Step4.1"
   ]
  },
  {
   "cell_type": "code",
   "execution_count": 9,
   "metadata": {},
   "outputs": [
    {
     "name": "stdout",
     "output_type": "stream",
     "text": [
      "Winners final scores:[282, 261, 184, 227, 189, 201, 218, 232, 201, 209, 196, 235, 235, 286, 280, 202, 209, 214, 207, 194]\n",
      "Winner minimum:184\n",
      "Winner maximum:286\n",
      "Winner mean:223.1\n",
      "Losers final scores:[82, 103, 180, 137, 175, 163, 146, 132, 163, 155, 168, 129, 129, 78, 84, 162, 155, 150, 157, 170]\n",
      "Loser minimum:78\n",
      "Loser maximum:180\n",
      "Loser mean:140.9\n"
     ]
    }
   ],
   "source": [
    "#Define function mean:\n",
    "def mean(lst): \n",
    "    return sum(lst) / len(lst) \n",
    "#For winner data:\n",
    "print('Winners final scores:'+str(winnerFinal)+'\\nWinner minimum:'+str(min(winnerFinal))+'\\nWinner maximum:'+str(max(winnerFinal))+'\\nWinner mean:'+str(mean(winnerFinal)))\n",
    "#For loser data:\n",
    "print('Losers final scores:'+str(loserFinal)+'\\nLoser minimum:'+str(min(loserFinal))+'\\nLoser maximum:'+str(max(loserFinal))+'\\nLoser mean:'+str(mean(loserFinal)))"
   ]
  },
  {
   "cell_type": "markdown",
   "metadata": {},
   "source": [
    "Since the sums of the winner scores and the loser scores in each game should equal to the total value of the deck(which equal to 364 ), both winner's minimum and maximum are over the half(364/2=182). \n",
    "Similarly, both loser's minimum and maximum are less than the half(364/2=182). \n",
    "The winner's minimum plus loser's maximum is equal to 364, also, the loser's minimum plus winner's maximum is equal to 364. \n",
    "Last, sum of two means also equal to 364."
   ]
  },
  {
   "cell_type": "markdown",
   "metadata": {},
   "source": [
    "## Step4.2"
   ]
  },
  {
   "cell_type": "code",
   "execution_count": 10,
   "metadata": {},
   "outputs": [
    {
     "name": "stdout",
     "output_type": "stream",
     "text": [
      "The proportion of games resulted in a winner that had a lower initial total than their opponent: 0.0\n",
      "The lowest initial total to win a game:175\n",
      "the highest initial total to lose a game: 209\n"
     ]
    }
   ],
   "source": [
    "#Use the counting variable from the previous loop to calculate the proportion.\n",
    "ProportionWinWithLowInitial=LowInitialWinnerCount/20\n",
    "print('The proportion of games resulted in a winner that had a lower initial total than their opponent: '+ str(ProportionWinWithLowInitial)+'\\nThe lowest initial total to win a game:'+str(min(winnerInitial))+'\\nthe highest initial total to lose a game: '+str(max(loserInitial)))"
   ]
  },
  {
   "cell_type": "markdown",
   "metadata": {},
   "source": [
    "## Step4.3"
   ]
  },
  {
   "cell_type": "code",
   "execution_count": 11,
   "metadata": {},
   "outputs": [
    {
     "name": "stdout",
     "output_type": "stream",
     "text": [
      "The correlation between the initial and final totals for winners: 0.4905434585736774\n",
      "The correlation between the initial and final totals for losers: -0.37824707643965594\n"
     ]
    }
   ],
   "source": [
    "#For winners:\n",
    "winnerCo=np.corrcoef(winnerInitial, winnerFinal)[0, 1]\n",
    "#For losers:\n",
    "loserCo=np.corrcoef(loserInitial, loserFinal)[0, 1]\n",
    "print('The correlation between the initial and final totals for winners: '+ str(winnerCo)+'\\nThe correlation between the initial and final totals for losers: '+ str(loserCo))"
   ]
  },
  {
   "cell_type": "markdown",
   "metadata": {},
   "source": [
    "I ran the playNew() function several time, which gave me a big sample size, then I found out the correlation between initial scores and final scores was not signaficant. I saw both positive and negative coefficients(most positive tho). The range of the absolute values of the coefficients is also wide, with a great variation."
   ]
  }
 ],
 "metadata": {
  "kernelspec": {
   "display_name": "Python 3",
   "language": "python",
   "name": "python3"
  },
  "language_info": {
   "codemirror_mode": {
    "name": "ipython",
    "version": 3
   },
   "file_extension": ".py",
   "mimetype": "text/x-python",
   "name": "python",
   "nbconvert_exporter": "python",
   "pygments_lexer": "ipython3",
   "version": "3.7.3"
  }
 },
 "nbformat": 4,
 "nbformat_minor": 2
}
